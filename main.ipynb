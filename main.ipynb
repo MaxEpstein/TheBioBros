{
 "cells": [
  {
   "cell_type": "markdown",
   "metadata": {},
   "source": [
    "TODO: Until we get real data, make synthetic data"
   ]
  },
  {
   "cell_type": "markdown",
   "metadata": {},
   "source": [
    "#### Temporary: Synthetic Data"
   ]
  },
  {
   "cell_type": "code",
   "execution_count": 16,
   "metadata": {},
   "outputs": [
    {
     "name": "stderr",
     "output_type": "stream",
     "text": [
      "/var/folders/37/f1ypddmd1cgbjxl4hrz8t5c40000gn/T/ipykernel_10750/2574581348.py:3: DeprecationWarning: This function is deprecated. Please call randint(0, 1 + 1) instead\n",
      "  data = np.concatenate((np.random.normal(100, 20, (100,5)),np.random.normal(3, 0.5, (100,5)), np.random.uniform(size=(100,2)), np.random.random_integers(0,1,(100,1))), axis=1)\n"
     ]
    },
    {
     "data": {
      "text/plain": [
       "array([[1.09934283e+02, 9.72347140e+01, 1.12953771e+02, ...,\n",
       "        1.67482582e-01, 1.04567840e-01, 1.00000000e+00],\n",
       "       [9.53172609e+01, 1.31584256e+02, 1.15348695e+02, ...,\n",
       "        6.36430250e-01, 7.06475726e-01, 1.00000000e+00],\n",
       "       [9.07316461e+01, 9.06854049e+01, 1.04839245e+02, ...,\n",
       "        3.15861448e-02, 9.36212246e-01, 1.00000000e+00],\n",
       "       ...,\n",
       "       [7.15549258e+01, 8.70685423e+01, 7.83690399e+01, ...,\n",
       "        2.37544131e-01, 3.73251792e-01, 1.00000000e+00],\n",
       "       [9.98405472e+01, 1.29598883e+02, 1.01547366e+02, ...,\n",
       "        2.27269627e-01, 7.31959238e-02, 1.00000000e+00],\n",
       "       [1.10778201e+02, 7.92550769e+01, 9.61932264e+01, ...,\n",
       "        6.03448593e-01, 6.68212799e-01, 1.00000000e+00]])"
      ]
     },
     "execution_count": 16,
     "metadata": {},
     "output_type": "execute_result"
    }
   ],
   "source": [
    "import numpy as np\n",
    "np.random.seed(42)\n",
    "data = np.concatenate((np.random.normal(100, 20, (100,5)),np.random.normal(3, 0.5, (100,5)), np.random.uniform(size=(100,2)), np.random.random_integers(0,1,(100,1))), axis=1)\n",
    "data"
   ]
  },
  {
   "cell_type": "markdown",
   "metadata": {},
   "source": [
    "### Preprocessing"
   ]
  },
  {
   "cell_type": "markdown",
   "metadata": {},
   "source": [
    "### Modeling"
   ]
  },
  {
   "cell_type": "markdown",
   "metadata": {},
   "source": [
    "### Evaluation"
   ]
  },
  {
   "cell_type": "markdown",
   "metadata": {},
   "source": []
  }
 ],
 "metadata": {
  "kernelspec": {
   "display_name": "CAI4104",
   "language": "python",
   "name": "python3"
  },
  "language_info": {
   "codemirror_mode": {
    "name": "ipython",
    "version": 3
   },
   "file_extension": ".py",
   "mimetype": "text/x-python",
   "name": "python",
   "nbconvert_exporter": "python",
   "pygments_lexer": "ipython3",
   "version": "3.10.13"
  }
 },
 "nbformat": 4,
 "nbformat_minor": 2
}
