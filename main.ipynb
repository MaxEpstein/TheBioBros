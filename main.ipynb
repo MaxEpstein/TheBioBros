{
 "cells": [
  {
   "cell_type": "markdown",
   "metadata": {},
   "source": [
    "TODO: Until we get real data, make synthetic data"
   ]
  },
  {
   "cell_type": "markdown",
   "metadata": {},
   "source": [
    "#### Temporary: Synthetic Data"
   ]
  },
  {
   "cell_type": "code",
   "execution_count": 5,
   "metadata": {},
   "outputs": [],
   "source": [
    "# Synthetic Data\n",
    "import numpy as np\n",
    "from sklearn.datasets import make_classification\n",
    "X, y = make_classification(random_state=42)\n",
    "data = np.concatenate((X, y.reshape(-1, 1)), axis = 1)"
   ]
  },
  {
   "cell_type": "markdown",
   "metadata": {},
   "source": [
    "### Preprocessing"
   ]
  },
  {
   "cell_type": "code",
   "execution_count": 6,
   "metadata": {},
   "outputs": [
    {
     "name": "stdout",
     "output_type": "stream",
     "text": [
      "(80, 20) (20, 20) (80,) (20,)\n"
     ]
    }
   ],
   "source": [
    "import preprocess\n",
    "X_train, X_test, y_train, y_test = preprocess.preprocess(data)\n",
    "print(X_train.shape, X_test.shape, y_train.shape, y_test.shape)"
   ]
  },
  {
   "cell_type": "markdown",
   "metadata": {},
   "source": [
    "### Modeling"
   ]
  },
  {
   "cell_type": "code",
   "execution_count": 12,
   "metadata": {},
   "outputs": [],
   "source": [
    "from modeling import model_decisiontree, model_randomforest, model_gradientboosting\n",
    "y_pred_dt, dt = model_decisiontree(X_train, X_test, y_train, y_test)\n",
    "y_pred_rf, rf = model_randomforest(X_train, X_test, y_train, y_test)\n",
    "y_pred_gb, gb = model_gradientboosting(X_train, X_test, y_train, y_test)"
   ]
  },
  {
   "cell_type": "markdown",
   "metadata": {},
   "source": [
    "### Evaluation"
   ]
  },
  {
   "cell_type": "code",
   "execution_count": 11,
   "metadata": {},
   "outputs": [
    {
     "name": "stdout",
     "output_type": "stream",
     "text": [
      "0.9\n",
      "0.9\n",
      "0.9\n"
     ]
    },
    {
     "data": {
      "text/plain": [
       "array([[11,  2],\n",
       "       [ 0,  7]])"
      ]
     },
     "execution_count": 11,
     "metadata": {},
     "output_type": "execute_result"
    }
   ],
   "source": [
    "# basic view for now to see some metrics\n",
    "from sklearn.metrics import accuracy_score, confusion_matrix\n",
    "print(accuracy_score(y_test, y_pred_dt))\n",
    "confusion_matrix(y_test, y_pred_dt)\n",
    "print(accuracy_score(y_test, y_pred_rf))\n",
    "confusion_matrix(y_test, y_pred_rf)\n",
    "print(accuracy_score(y_test, y_pred_gb))\n",
    "confusion_matrix(y_test, y_pred_gb)"
   ]
  }
 ],
 "metadata": {
  "kernelspec": {
   "display_name": "Python 3",
   "language": "python",
   "name": "python3"
  },
  "language_info": {
   "codemirror_mode": {
    "name": "ipython",
    "version": 3
   },
   "file_extension": ".py",
   "mimetype": "text/x-python",
   "name": "python",
   "nbconvert_exporter": "python",
   "pygments_lexer": "ipython3",
   "version": "3.13.1"
  }
 },
 "nbformat": 4,
 "nbformat_minor": 2
}
